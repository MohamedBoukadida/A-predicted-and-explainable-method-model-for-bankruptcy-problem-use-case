{
 "cells": [
  {
   "cell_type": "code",
   "execution_count": 2,
   "metadata": {},
   "outputs": [],
   "source": [
    "#Libraries\n",
    "import numpy as np\n",
    "from statistics import mean\n",
    "from collections import Counter\n",
    "import pandas as pd\n",
    "import matplotlib.pyplot as plt\n",
    "import seaborn as sns\n",
    "from imblearn.over_sampling import SMOTE\n",
    "from imblearn.under_sampling import RandomUnderSampler \n",
    "from sklearn.metrics import confusion_matrix\n",
    "from sklearn.feature_selection import SelectKBest, chi2\n",
    "from sklearn.metrics import classification_report, confusion_matrix\n",
    "\n",
    "#Models\n",
    "from sklearn.naive_bayes import GaussianNB\n",
    "from sklearn.ensemble import RandomForestClassifier\n",
    "from sklearn.svm import SVC\n",
    "from sklearn.ensemble import RandomForestClassifier\n",
    "from sklearn.linear_model import LogisticRegression\n",
    "from sklearn.tree import DecisionTreeClassifier\n",
    "from sklearn.naive_bayes import GaussianNB\n",
    "from sklearn.neighbors import KNeighborsClassifier\n",
    "from sklearn.linear_model import SGDClassifier\n",
    "from sklearn import svm\n",
    "\n",
    "#Selection\n",
    "from sklearn.model_selection import GridSearchCV\n",
    "from sklearn.model_selection import train_test_split\n",
    "from sklearn.model_selection import cross_val_score\n",
    "from sklearn.feature_selection import SelectFromModel"
   ]
  },
  {
   "cell_type": "code",
   "execution_count": 4,
   "metadata": {},
   "outputs": [
    {
     "data": {
      "image/png": "[encoded data removed]",
      "text/plain": [
       "<Figure size 432x288 with 1 Axes>"
      ]
     },
     "metadata": {
      "needs_background": "light"
     },
     "output_type": "display_data"
    },
    {
     "data": {
      "text/plain": [
       "Bankrupt\n",
       "0    6599\n",
       "1     220\n",
       "dtype: int64"
      ]
     },
     "execution_count": 4,
     "metadata": {},
     "output_type": "execute_result"
    }
   ],
   "source": [
    "data = pd.read_csv('C:/Users/ASUS/Desktop/data.csv')\n",
    "sns.countplot(data=data, x='Bankrupt', palette='bwr')\n",
    "plt.show()\n",
    "\n",
    "data.groupby('Bankrupt').size()"
   ]
  },
  {
   "cell_type": "code",
   "execution_count": 3,
   "metadata": {},
   "outputs": [],
   "source": [
    "#Input and ouputs\n",
    "y = data['Bankrupt']\n",
    "X= data.drop('Bankrupt',axis=1)"
   ]
  },
  {
   "cell_type": "code",
   "execution_count": 6,
   "metadata": {},
   "outputs": [
    {
     "name": "stdout",
     "output_type": "stream",
     "text": [
      "              precision    recall  f1-score   support\n",
      "\n",
      "           0       0.97      1.00      0.98      6599\n",
      "           1       0.14      0.02      0.03       220\n",
      "\n",
      "    accuracy                           0.96      6819\n",
      "   macro avg       0.55      0.51      0.51      6819\n",
      "weighted avg       0.94      0.96      0.95      6819\n",
      "\n",
      "                 model  best_score  \\\n",
      "0  neighrest neighbors    0.966711   \n",
      "1        decision_tree    0.965831   \n",
      "2        random_forest    0.964072   \n",
      "3  logistic_regression    0.962018   \n",
      "\n",
      "                                         best_params  \n",
      "0  {'metric': 'manhattan', 'n_neighbors': 4, 'wei...  \n",
      "1              {'criterion': 'gini', 'max_depth': 3}  \n",
      "2                               {'n_estimators': 10}  \n",
      "3                                           {'C': 1}  \n"
     ]
    }
   ],
   "source": [
    "#Test\n",
    "model_params = {\n",
    "    'neighrest neighbors': {\n",
    "        \n",
    "        'model': KNeighborsClassifier(),\n",
    "        'params' : {\n",
    "            'n_neighbors': [1,2,3,4,5],\n",
    "            'weights': ['uniform','distance'],\n",
    "            'metric': ['euclidean','manhattan']\n",
    "        }  \n",
    "    },\n",
    "    \n",
    "    'decision_tree' : {\n",
    "        'model':DecisionTreeClassifier(),\n",
    "        'params' : {\n",
    "            'criterion': ['gini','entropy'],\n",
    "            'max_depth': [3,4,5,6,7,8,9,10,11,12,13,14,15]\n",
    "    }\n",
    "},\n",
    "    'random_forest': {\n",
    "        'model': RandomForestClassifier(),\n",
    "        'params' : {\n",
    "            'n_estimators': [1,5,10]\n",
    "        }\n",
    "    },\n",
    "        \n",
    "    \n",
    "    'logistic_regression' : {\n",
    "        'model': LogisticRegression(solver='liblinear',multi_class='auto'),\n",
    "        'params': {\n",
    "            'C': [1,5,10]\n",
    "        }\n",
    "    }\n",
    "}\n",
    "\n",
    "scores = []\n",
    "\n",
    "for model_name, mp in model_params.items():\n",
    "    grid =  GridSearchCV(mp['model'], mp['params'], cv=5, return_train_score=False)\n",
    "    grid.fit(X, y)\n",
    "    scores.append({\n",
    "        'model': model_name,\n",
    "        'best_score': grid.best_score_,\n",
    "        'best_params': grid.best_params_\n",
    "    })\n",
    "    \n",
    "grid_predictions = grid.predict(X)\n",
    "\n",
    "print(classification_report(y, grid_predictions)) \n",
    "\n",
    "    \n",
    "df = pd.DataFrame(scores,columns=['model','best_score','best_params'])\n",
    "print(df)"
   ]
  },
  {
   "cell_type": "code",
   "execution_count": 25,
   "metadata": {},
   "outputs": [
    {
     "name": "stdout",
     "output_type": "stream",
     "text": [
      "Values of bankrupt column :\n",
      "0    6599\n",
      "1     220\n",
      "Name: Bankrupt, dtype: int64\n",
      "Values of bankrupt column after SMOTE :\n",
      "Counter({1: 6599, 0: 6599})\n"
     ]
    },
    {
     "data": {
      "image/png": "[encoded data removed]",
      "text/plain": [
       "<Figure size 432x288 with 1 Axes>"
      ]
     },
     "metadata": {
      "needs_background": "light"
     },
     "output_type": "display_data"
    }
   ],
   "source": [
    "#Oversampling\n",
    "\n",
    "print(\"Values of bankrupt column :\")\n",
    "print(data['Bankrupt'].value_counts())\n",
    "oversample = SMOTE()\n",
    "X_oversamp, y_oversamp = oversample.fit_resample(X, y)\n",
    "counter = Counter(y_oversamp)\n",
    "print(\"Values of bankrupt column after SMOTE :\")\n",
    "print(counter)\n",
    "sns.countplot(data=X_oversamp, x=y_oversamp, palette='bwr')\n",
    "plt.show()"
   ]
  },
  {
   "cell_type": "code",
   "execution_count": 17,
   "metadata": {},
   "outputs": [
    {
     "name": "stdout",
     "output_type": "stream",
     "text": [
      "              precision    recall  f1-score   support\n",
      "\n",
      "           0       0.59      0.75      0.66      6599\n",
      "           1       0.66      0.48      0.55      6599\n",
      "\n",
      "    accuracy                           0.61     13198\n",
      "   macro avg       0.62      0.61      0.61     13198\n",
      "weighted avg       0.62      0.61      0.61     13198\n",
      "\n",
      "                 model  best_score  \\\n",
      "0  neighrest neighbors    0.945221   \n",
      "1        decision_tree    0.950753   \n",
      "2        random_forest    0.972952   \n",
      "3  logistic_regression    0.593658   \n",
      "\n",
      "                                         best_params  \n",
      "0  {'metric': 'manhattan', 'n_neighbors': 1, 'wei...  \n",
      "1          {'criterion': 'entropy', 'max_depth': 15}  \n",
      "2                               {'n_estimators': 10}  \n",
      "3                                           {'C': 1}  \n"
     ]
    }
   ],
   "source": [
    "#Test oversampling\n",
    "model_params = {\n",
    "    'neighrest neighbors': {\n",
    "        \n",
    "        'model': KNeighborsClassifier(),\n",
    "        'params' : {\n",
    "            'n_neighbors': [1,2,3,4,5],\n",
    "            'weights': ['uniform','distance'],\n",
    "            'metric': ['euclidean','manhattan']\n",
    "        }  \n",
    "    },\n",
    "     'decision_tree' : {\n",
    "        'model':DecisionTreeClassifier(),\n",
    "        'params' : {\n",
    "            'criterion': ['gini','entropy'],\n",
    "            'max_depth': [3,4,5,6,7,8,9,10,11,12,13,14,15]\n",
    "    }\n",
    "},\n",
    "    'random_forest': {\n",
    "        'model': RandomForestClassifier(),\n",
    "        'params' : {\n",
    "            'n_estimators': [1,5,10]\n",
    "        }\n",
    "    },\n",
    "        \n",
    "    \n",
    "    'logistic_regression' : {\n",
    "        'model': LogisticRegression(solver='liblinear',multi_class='auto'),\n",
    "        'params': {\n",
    "            'C': [1,5,10]\n",
    "        }\n",
    "    }\n",
    "}\n",
    "\n",
    "scores = []\n",
    "\n",
    "for model_name, mp in model_params.items():\n",
    "    grid =  GridSearchCV(mp['model'], mp['params'], cv=5, return_train_score=False)\n",
    "    grid.fit(X_oversamp, y_oversamp)\n",
    "    scores.append({\n",
    "        'model': model_name,\n",
    "        'best_score': grid.best_score_,\n",
    "        'best_params': grid.best_params_\n",
    "    })\n",
    "    \n",
    "grid_predictions = grid.predict(X_oversamp)\n",
    "\n",
    "print(classification_report(y_oversamp, grid_predictions)) \n",
    "\n",
    "df = pd.DataFrame(scores,columns=['model','best_score','best_params'])\n",
    "print(df)"
   ]
  },
  {
   "cell_type": "code",
   "execution_count": 26,
   "metadata": {},
   "outputs": [
    {
     "ename": "ValueError",
     "evalue": "X has 95 features per sample; expecting 15",
     "output_type": "error",
     "traceback": [
      "\u001b[1;31m---------------------------------------------------------------------------\u001b[0m",
      "\u001b[1;31mValueError\u001b[0m                                Traceback (most recent call last)",
      "\u001b[1;32m<ipython-input-26-a103688dd1e5>\u001b[0m in \u001b[0;36m<module>\u001b[1;34m\u001b[0m\n\u001b[0;32m      1\u001b[0m \u001b[0mmodel\u001b[0m \u001b[1;33m=\u001b[0m \u001b[0mgrid\u001b[0m\u001b[1;33m.\u001b[0m\u001b[0mbest_estimator_\u001b[0m\u001b[1;33m\u001b[0m\u001b[1;33m\u001b[0m\u001b[0m\n\u001b[1;32m----> 2\u001b[1;33m \u001b[0mconfusion_matrix\u001b[0m\u001b[1;33m(\u001b[0m\u001b[0my_oversamp\u001b[0m\u001b[1;33m,\u001b[0m\u001b[0mmodel\u001b[0m\u001b[1;33m.\u001b[0m\u001b[0mpredict\u001b[0m\u001b[1;33m(\u001b[0m\u001b[0mX_oversamp\u001b[0m\u001b[1;33m)\u001b[0m\u001b[1;33m)\u001b[0m\u001b[1;33m\u001b[0m\u001b[1;33m\u001b[0m\u001b[0m\n\u001b[0m",
      "\u001b[1;32m~\\anaconda3\\lib\\site-packages\\sklearn\\linear_model\\_base.py\u001b[0m in \u001b[0;36mpredict\u001b[1;34m(self, X)\u001b[0m\n\u001b[0;32m    307\u001b[0m             \u001b[0mPredicted\u001b[0m \u001b[1;32mclass\u001b[0m \u001b[0mlabel\u001b[0m \u001b[0mper\u001b[0m \u001b[0msample\u001b[0m\u001b[1;33m.\u001b[0m\u001b[1;33m\u001b[0m\u001b[1;33m\u001b[0m\u001b[0m\n\u001b[0;32m    308\u001b[0m         \"\"\"\n\u001b[1;32m--> 309\u001b[1;33m         \u001b[0mscores\u001b[0m \u001b[1;33m=\u001b[0m \u001b[0mself\u001b[0m\u001b[1;33m.\u001b[0m\u001b[0mdecision_function\u001b[0m\u001b[1;33m(\u001b[0m\u001b[0mX\u001b[0m\u001b[1;33m)\u001b[0m\u001b[1;33m\u001b[0m\u001b[1;33m\u001b[0m\u001b[0m\n\u001b[0m\u001b[0;32m    310\u001b[0m         \u001b[1;32mif\u001b[0m \u001b[0mlen\u001b[0m\u001b[1;33m(\u001b[0m\u001b[0mscores\u001b[0m\u001b[1;33m.\u001b[0m\u001b[0mshape\u001b[0m\u001b[1;33m)\u001b[0m \u001b[1;33m==\u001b[0m \u001b[1;36m1\u001b[0m\u001b[1;33m:\u001b[0m\u001b[1;33m\u001b[0m\u001b[1;33m\u001b[0m\u001b[0m\n\u001b[0;32m    311\u001b[0m             \u001b[0mindices\u001b[0m \u001b[1;33m=\u001b[0m \u001b[1;33m(\u001b[0m\u001b[0mscores\u001b[0m \u001b[1;33m>\u001b[0m \u001b[1;36m0\u001b[0m\u001b[1;33m)\u001b[0m\u001b[1;33m.\u001b[0m\u001b[0mastype\u001b[0m\u001b[1;33m(\u001b[0m\u001b[0mint\u001b[0m\u001b[1;33m)\u001b[0m\u001b[1;33m\u001b[0m\u001b[1;33m\u001b[0m\u001b[0m\n",
      "\u001b[1;32m~\\anaconda3\\lib\\site-packages\\sklearn\\linear_model\\_base.py\u001b[0m in \u001b[0;36mdecision_function\u001b[1;34m(self, X)\u001b[0m\n\u001b[0;32m    286\u001b[0m         \u001b[0mn_features\u001b[0m \u001b[1;33m=\u001b[0m \u001b[0mself\u001b[0m\u001b[1;33m.\u001b[0m\u001b[0mcoef_\u001b[0m\u001b[1;33m.\u001b[0m\u001b[0mshape\u001b[0m\u001b[1;33m[\u001b[0m\u001b[1;36m1\u001b[0m\u001b[1;33m]\u001b[0m\u001b[1;33m\u001b[0m\u001b[1;33m\u001b[0m\u001b[0m\n\u001b[0;32m    287\u001b[0m         \u001b[1;32mif\u001b[0m \u001b[0mX\u001b[0m\u001b[1;33m.\u001b[0m\u001b[0mshape\u001b[0m\u001b[1;33m[\u001b[0m\u001b[1;36m1\u001b[0m\u001b[1;33m]\u001b[0m \u001b[1;33m!=\u001b[0m \u001b[0mn_features\u001b[0m\u001b[1;33m:\u001b[0m\u001b[1;33m\u001b[0m\u001b[1;33m\u001b[0m\u001b[0m\n\u001b[1;32m--> 288\u001b[1;33m             raise ValueError(\"X has %d features per sample; expecting %d\"\n\u001b[0m\u001b[0;32m    289\u001b[0m                              % (X.shape[1], n_features))\n\u001b[0;32m    290\u001b[0m \u001b[1;33m\u001b[0m\u001b[0m\n",
      "\u001b[1;31mValueError\u001b[0m: X has 95 features per sample; expecting 15"
     ]
    }
   ],
   "source": [
    "model = grid.best_estimator_\n",
    "confusion_matrix(y_oversamp,model.predict(X_oversamp))"
   ]
  },
  {
   "cell_type": "code",
   "execution_count": 13,
   "metadata": {},
   "outputs": [
    {
     "name": "stdout",
     "output_type": "stream",
     "text": [
      "Values of bankrupt column :\n",
      "0    6599\n",
      "1     220\n",
      "Name: Bankrupt, dtype: int64\n",
      "Counter({0: 440, 1: 220})\n"
     ]
    },
    {
     "data": {
      "image/png": "[encoded data removed]",
      "text/plain": [
       "<Figure size 432x288 with 1 Axes>"
      ]
     },
     "metadata": {
      "needs_background": "light"
     },
     "output_type": "display_data"
    }
   ],
   "source": [
    "#Undersampling\n",
    "print(\"Values of bankrupt column :\")\n",
    "print(data['Bankrupt'].value_counts())\n",
    "under = RandomUnderSampler(sampling_strategy=0.5)\n",
    "X_undersamp, y_undersamp = under.fit_resample(X, y)\n",
    "counter = Counter(y_undersamp)\n",
    "print(counter)\n",
    "sns.countplot(data=X_undersamp, x=y_undersamp, palette='bwr')\n",
    "plt.show()\n"
   ]
  },
  {
   "cell_type": "code",
   "execution_count": 15,
   "metadata": {},
   "outputs": [
    {
     "name": "stdout",
     "output_type": "stream",
     "text": [
      "              precision    recall  f1-score   support\n",
      "\n",
      "           0       0.70      0.93      0.80       440\n",
      "           1       0.58      0.19      0.28       220\n",
      "\n",
      "    accuracy                           0.68       660\n",
      "   macro avg       0.64      0.56      0.54       660\n",
      "weighted avg       0.66      0.68      0.63       660\n",
      "\n",
      "                 model  best_score  \\\n",
      "0  neighrest neighbors    0.695455   \n",
      "1        decision_tree    0.845455   \n",
      "2        random_forest    0.857576   \n",
      "3  logistic_regression    0.646970   \n",
      "\n",
      "                                         best_params  \n",
      "0  {'metric': 'euclidean', 'n_neighbors': 2, 'wei...  \n",
      "1           {'criterion': 'entropy', 'max_depth': 3}  \n",
      "2                               {'n_estimators': 10}  \n",
      "3                                           {'C': 1}  \n"
     ]
    }
   ],
   "source": [
    "#Test undersampling\n",
    "model_params = {\n",
    "    'neighrest neighbors': {\n",
    "        \n",
    "        'model': KNeighborsClassifier(),\n",
    "        'params' : {\n",
    "            'n_neighbors': [1,2,3,4,5],\n",
    "            'weights': ['uniform','distance'],\n",
    "            'metric': ['euclidean','manhattan']\n",
    "        }  \n",
    "    },\n",
    "     'decision_tree' : {\n",
    "        'model':DecisionTreeClassifier(),\n",
    "        'params' : {\n",
    "            'criterion': ['gini','entropy'],\n",
    "            'max_depth': [3,4,5,6,7,8,9,10,11,12,13,14,15]\n",
    "    }\n",
    "},\n",
    "    'random_forest': {\n",
    "        'model': RandomForestClassifier(),\n",
    "        'params' : {\n",
    "            'n_estimators': [1,5,10]\n",
    "        }\n",
    "    },\n",
    "        \n",
    "    \n",
    "    'logistic_regression' : {\n",
    "        'model': LogisticRegression(solver='liblinear',multi_class='auto'),\n",
    "        'params': {\n",
    "            'C': [1,5,10]\n",
    "        }\n",
    "    }\n",
    "}\n",
    "\n",
    "scores = []\n",
    "\n",
    "for model_name, mp in model_params.items():\n",
    "    grid =  GridSearchCV(mp['model'], mp['params'], cv=5, return_train_score=False)\n",
    "    grid.fit(X_undersamp, y_undersamp)\n",
    "    scores.append({\n",
    "        'model': model_name,\n",
    "        'best_score': grid.best_score_,\n",
    "        'best_params': grid.best_params_\n",
    "    })\n",
    "    \n",
    "grid_predictions = grid.predict(X_undersamp) \n",
    "   \n",
    "# print classification report \n",
    "print(classification_report(y_undersamp, grid_predictions)) \n",
    "\n",
    "df = pd.DataFrame(scores,columns=['model','best_score','best_params'])\n",
    "print(df)"
   ]
  },
  {
   "cell_type": "code",
   "execution_count": 27,
   "metadata": {},
   "outputs": [
    {
     "ename": "ValueError",
     "evalue": "X has 95 features per sample; expecting 15",
     "output_type": "error",
     "traceback": [
      "\u001b[1;31m---------------------------------------------------------------------------\u001b[0m",
      "\u001b[1;31mValueError\u001b[0m                                Traceback (most recent call last)",
      "\u001b[1;32m<ipython-input-27-a18e4f442238>\u001b[0m in \u001b[0;36m<module>\u001b[1;34m\u001b[0m\n\u001b[0;32m      1\u001b[0m \u001b[0mmodel\u001b[0m \u001b[1;33m=\u001b[0m \u001b[0mgrid\u001b[0m\u001b[1;33m.\u001b[0m\u001b[0mbest_estimator_\u001b[0m\u001b[1;33m\u001b[0m\u001b[1;33m\u001b[0m\u001b[0m\n\u001b[1;32m----> 2\u001b[1;33m \u001b[0mconfusion_matrix\u001b[0m\u001b[1;33m(\u001b[0m\u001b[0my_undersamp\u001b[0m\u001b[1;33m,\u001b[0m\u001b[0mmodel\u001b[0m\u001b[1;33m.\u001b[0m\u001b[0mpredict\u001b[0m\u001b[1;33m(\u001b[0m\u001b[0mX_undersamp\u001b[0m\u001b[1;33m)\u001b[0m\u001b[1;33m)\u001b[0m\u001b[1;33m\u001b[0m\u001b[1;33m\u001b[0m\u001b[0m\n\u001b[0m",
      "\u001b[1;32m~\\anaconda3\\lib\\site-packages\\sklearn\\linear_model\\_base.py\u001b[0m in \u001b[0;36mpredict\u001b[1;34m(self, X)\u001b[0m\n\u001b[0;32m    307\u001b[0m             \u001b[0mPredicted\u001b[0m \u001b[1;32mclass\u001b[0m \u001b[0mlabel\u001b[0m \u001b[0mper\u001b[0m \u001b[0msample\u001b[0m\u001b[1;33m.\u001b[0m\u001b[1;33m\u001b[0m\u001b[1;33m\u001b[0m\u001b[0m\n\u001b[0;32m    308\u001b[0m         \"\"\"\n\u001b[1;32m--> 309\u001b[1;33m         \u001b[0mscores\u001b[0m \u001b[1;33m=\u001b[0m \u001b[0mself\u001b[0m\u001b[1;33m.\u001b[0m\u001b[0mdecision_function\u001b[0m\u001b[1;33m(\u001b[0m\u001b[0mX\u001b[0m\u001b[1;33m)\u001b[0m\u001b[1;33m\u001b[0m\u001b[1;33m\u001b[0m\u001b[0m\n\u001b[0m\u001b[0;32m    310\u001b[0m         \u001b[1;32mif\u001b[0m \u001b[0mlen\u001b[0m\u001b[1;33m(\u001b[0m\u001b[0mscores\u001b[0m\u001b[1;33m.\u001b[0m\u001b[0mshape\u001b[0m\u001b[1;33m)\u001b[0m \u001b[1;33m==\u001b[0m \u001b[1;36m1\u001b[0m\u001b[1;33m:\u001b[0m\u001b[1;33m\u001b[0m\u001b[1;33m\u001b[0m\u001b[0m\n\u001b[0;32m    311\u001b[0m             \u001b[0mindices\u001b[0m \u001b[1;33m=\u001b[0m \u001b[1;33m(\u001b[0m\u001b[0mscores\u001b[0m \u001b[1;33m>\u001b[0m \u001b[1;36m0\u001b[0m\u001b[1;33m)\u001b[0m\u001b[1;33m.\u001b[0m\u001b[0mastype\u001b[0m\u001b[1;33m(\u001b[0m\u001b[0mint\u001b[0m\u001b[1;33m)\u001b[0m\u001b[1;33m\u001b[0m\u001b[1;33m\u001b[0m\u001b[0m\n",
      "\u001b[1;32m~\\anaconda3\\lib\\site-packages\\sklearn\\linear_model\\_base.py\u001b[0m in \u001b[0;36mdecision_function\u001b[1;34m(self, X)\u001b[0m\n\u001b[0;32m    286\u001b[0m         \u001b[0mn_features\u001b[0m \u001b[1;33m=\u001b[0m \u001b[0mself\u001b[0m\u001b[1;33m.\u001b[0m\u001b[0mcoef_\u001b[0m\u001b[1;33m.\u001b[0m\u001b[0mshape\u001b[0m\u001b[1;33m[\u001b[0m\u001b[1;36m1\u001b[0m\u001b[1;33m]\u001b[0m\u001b[1;33m\u001b[0m\u001b[1;33m\u001b[0m\u001b[0m\n\u001b[0;32m    287\u001b[0m         \u001b[1;32mif\u001b[0m \u001b[0mX\u001b[0m\u001b[1;33m.\u001b[0m\u001b[0mshape\u001b[0m\u001b[1;33m[\u001b[0m\u001b[1;36m1\u001b[0m\u001b[1;33m]\u001b[0m \u001b[1;33m!=\u001b[0m \u001b[0mn_features\u001b[0m\u001b[1;33m:\u001b[0m\u001b[1;33m\u001b[0m\u001b[1;33m\u001b[0m\u001b[0m\n\u001b[1;32m--> 288\u001b[1;33m             raise ValueError(\"X has %d features per sample; expecting %d\"\n\u001b[0m\u001b[0;32m    289\u001b[0m                              % (X.shape[1], n_features))\n\u001b[0;32m    290\u001b[0m \u001b[1;33m\u001b[0m\u001b[0m\n",
      "\u001b[1;31mValueError\u001b[0m: X has 95 features per sample; expecting 15"
     ]
    }
   ],
   "source": [
    "model = grid.best_estimator_\n",
    "confusion_matrix(y_undersamp,model.predict(X_undersamp))"
   ]
  },
  {
   "cell_type": "code",
   "execution_count": 18,
   "metadata": {},
   "outputs": [
    {
     "name": "stdout",
     "output_type": "stream",
     "text": [
      "[' Operating Expense Rate' ' Total Asset Growth Rate'\n",
      " ' Net Value Growth Rate' ' Quick Ratio' ' Total debt/Total net worth'\n",
      " ' Fixed Assets Turnover Frequency' ' Revenue per person'\n",
      " ' Allocation rate per person' ' Quick Assets/Current Liability'\n",
      " ' Cash/Current Liability' ' Inventory/Current Liability'\n",
      " ' Long-term Liability to Current Assets' ' Quick Asset Turnover Rate'\n",
      " ' Fixed Assets to Assets' ' Total assets to GNP price']\n",
      "[' Operating Expense Rate' ' Research and development expense rate'\n",
      " ' Interest-bearing debt interest rate' ' Total Asset Growth Rate'\n",
      " ' Net Value Growth Rate' ' Quick Ratio'\n",
      " ' Inventory Turnover Rate (times)' ' Fixed Assets Turnover Frequency'\n",
      " ' Revenue per person' ' Cash/Current Liability'\n",
      " ' Current Asset Turnover Rate' ' Quick Asset Turnover Rate'\n",
      " ' Cash Turnover Rate' ' Fixed Assets to Assets'\n",
      " ' Total assets to GNP price']\n"
     ]
    }
   ],
   "source": [
    "selector = SelectKBest (chi2, k=15)\n",
    "selector.fit_transform (X_undersamp, y_undersamp)\n",
    "names = X.columns.values[selector.get_support()]\n",
    "print(names)\n",
    "\n",
    "X_undersamp_fe=X_undersamp[names]\n",
    "\n",
    "selector = SelectKBest (chi2, k=15)\n",
    "selector.fit_transform (X_oversamp, y_oversamp)\n",
    "names = X.columns.values[selector.get_support()]\n",
    "print(names)\n",
    "X_oversamp_fe=X_oversamp[names]"
   ]
  },
  {
   "cell_type": "code",
   "execution_count": 20,
   "metadata": {},
   "outputs": [
    {
     "name": "stdout",
     "output_type": "stream",
     "text": [
      "              precision    recall  f1-score   support\n",
      "\n",
      "           0       0.59      0.75      0.66      6599\n",
      "           1       0.65      0.47      0.55      6599\n",
      "\n",
      "    accuracy                           0.61     13198\n",
      "   macro avg       0.62      0.61      0.60     13198\n",
      "weighted avg       0.62      0.61      0.60     13198\n",
      "\n",
      "                 model  best_score  \\\n",
      "0  neighrest neighbors    0.943781   \n",
      "1        decision_tree    0.929841   \n",
      "2        random_forest    0.960224   \n",
      "3  logistic_regression    0.590324   \n",
      "\n",
      "                                         best_params  \n",
      "0  {'metric': 'manhattan', 'n_neighbors': 1, 'wei...  \n",
      "1             {'criterion': 'gini', 'max_depth': 15}  \n",
      "2                               {'n_estimators': 10}  \n",
      "3                                           {'C': 5}  \n"
     ]
    }
   ],
   "source": [
    "#Test oversampling\n",
    "model_params = {\n",
    "    'neighrest neighbors': {\n",
    "        \n",
    "        'model': KNeighborsClassifier(),\n",
    "        'params' : {\n",
    "            'n_neighbors': [1,2,3,4,5],\n",
    "            'weights': ['uniform','distance'],\n",
    "            'metric': ['euclidean','manhattan']\n",
    "        }  \n",
    "    },\n",
    "     'decision_tree' : {\n",
    "        'model':DecisionTreeClassifier(),\n",
    "        'params' : {\n",
    "            'criterion': ['gini','entropy'],\n",
    "            'max_depth': [3,4,5,6,7,8,9,10,11,12,13,14,15]\n",
    "    }\n",
    "},\n",
    "    'random_forest': {\n",
    "        'model': RandomForestClassifier(),\n",
    "        'params' : {\n",
    "            'n_estimators': [1,5,10]\n",
    "        }\n",
    "    },\n",
    "        \n",
    "    \n",
    "    'logistic_regression' : {\n",
    "        'model': LogisticRegression(solver='liblinear',multi_class='auto'),\n",
    "        'params': {\n",
    "            'C': [1,5,10]\n",
    "        }\n",
    "    }\n",
    "}\n",
    "\n",
    "scores = []\n",
    "\n",
    "for model_name, mp in model_params.items():\n",
    "    grid =  GridSearchCV(mp['model'], mp['params'], cv=5, return_train_score=False)\n",
    "    grid.fit(X_oversamp_fe, y_oversamp)\n",
    "    scores.append({\n",
    "        'model': model_name,\n",
    "        'best_score': grid.best_score_,\n",
    "        'best_params': grid.best_params_\n",
    "    })\n",
    "    \n",
    "grid_predictions = grid.predict(X_oversamp_fe)\n",
    "\n",
    "print(classification_report(y_oversamp, grid_predictions)) \n",
    "    \n",
    "df = pd.DataFrame(scores,columns=['model','best_score','best_params'])\n",
    "print(df)"
   ]
  },
  {
   "cell_type": "code",
   "execution_count": 22,
   "metadata": {},
   "outputs": [
    {
     "name": "stdout",
     "output_type": "stream",
     "text": [
      "              precision    recall  f1-score   support\n",
      "\n",
      "           0       0.69      0.88      0.77       440\n",
      "           1       0.45      0.19      0.27       220\n",
      "\n",
      "    accuracy                           0.65       660\n",
      "   macro avg       0.57      0.54      0.52       660\n",
      "weighted avg       0.61      0.65      0.60       660\n",
      "\n",
      "                 model  best_score  \\\n",
      "0  neighrest neighbors    0.721212   \n",
      "1        decision_tree    0.850000   \n",
      "2        random_forest    0.834848   \n",
      "3  logistic_regression    0.633333   \n",
      "\n",
      "                                         best_params  \n",
      "0  {'metric': 'euclidean', 'n_neighbors': 5, 'wei...  \n",
      "1              {'criterion': 'gini', 'max_depth': 3}  \n",
      "2                               {'n_estimators': 10}  \n",
      "3                                           {'C': 1}  \n"
     ]
    }
   ],
   "source": [
    "#Test undersampling\n",
    "model_params = {\n",
    "    'neighrest neighbors': {\n",
    "        \n",
    "        'model': KNeighborsClassifier(),\n",
    "        'params' : {\n",
    "            'n_neighbors': [1,2,3,4,5],\n",
    "            'weights': ['uniform','distance'],\n",
    "            'metric': ['euclidean','manhattan']\n",
    "        }  \n",
    "    },\n",
    "     'decision_tree' : {\n",
    "        'model':DecisionTreeClassifier(),\n",
    "        'params' : {\n",
    "            'criterion': ['gini','entropy'],\n",
    "            'max_depth': [3,4,5,6,7,8,9,10,11,12,13,14,15]\n",
    "    }\n",
    "},\n",
    "    'random_forest': {\n",
    "        'model': RandomForestClassifier(),\n",
    "        'params' : {\n",
    "            'n_estimators': [1,5,10]\n",
    "        }\n",
    "    },\n",
    "        \n",
    "    \n",
    "    'logistic_regression' : {\n",
    "        'model': LogisticRegression(solver='liblinear',multi_class='auto'),\n",
    "        'params': {\n",
    "            'C': [1,5,10]\n",
    "        }\n",
    "    }\n",
    "}\n",
    "\n",
    "scores = []\n",
    "\n",
    "for model_name, mp in model_params.items():\n",
    "    grid =  GridSearchCV(mp['model'], mp['params'], cv=5, return_train_score=False)\n",
    "    grid.fit(X_undersamp_fe, y_undersamp)\n",
    "    scores.append({\n",
    "        'model': model_name,\n",
    "        'best_score': grid.best_score_,\n",
    "        'best_params': grid.best_params_\n",
    "    })\n",
    "    \n",
    "grid_predictions = grid.predict(X_undersamp_fe)\n",
    "\n",
    "print(classification_report(y_undersamp, grid_predictions)) \n",
    "    \n",
    "df = pd.DataFrame(scores,columns=['model','best_score','best_params'])\n",
    "print(df)\n"
   ]
  },
  {
   "cell_type": "code",
   "execution_count": null,
   "metadata": {},
   "outputs": [],
   "source": []
  }
 ],
 "metadata": {
  "kernelspec": {
   "display_name": "Python 3",
   "language": "python",
   "name": "python3"
  },
  "language_info": {
   "codemirror_mode": {
    "name": "ipython",
    "version": 3
   },
   "file_extension": ".py",
   "mimetype": "text/x-python",
   "name": "python",
   "nbconvert_exporter": "python",
   "pygments_lexer": "ipython3",
   "version": "3.8.5"
  }
 },
 "nbformat": 4,
 "nbformat_minor": 4
}
